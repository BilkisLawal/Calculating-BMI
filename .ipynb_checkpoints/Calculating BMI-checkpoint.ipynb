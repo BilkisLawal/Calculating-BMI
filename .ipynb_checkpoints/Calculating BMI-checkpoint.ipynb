{
 "cells": [
  {
   "cell_type": "markdown",
   "id": "62079e27-67c9-4ab6-9f01-de4107296bcf",
   "metadata": {},
   "source": [
    "# Calculating BMI"
   ]
  },
  {
   "cell_type": "code",
   "execution_count": 7,
   "id": "ef3a49d9-d4d0-4952-82ef-e47723511718",
   "metadata": {},
   "outputs": [
    {
     "name": "stdin",
     "output_type": "stream",
     "text": [
      "Enter your name:   Sarah\n",
      "Enter weight in pounds:   190\n",
      "Enter height in inches:   70\n"
     ]
    },
    {
     "name": "stdout",
     "output_type": "stream",
     "text": [
      "27.259183673469387\n"
     ]
    }
   ],
   "source": [
    "name = input('Enter your name:  ')\n",
    "weight = int(input('Enter weight in pounds:  '))\n",
    "height = int(input('Enter height in inches:  '))\n",
    "BMI = (weight * 703) / (height * height)\n",
    "\n",
    "print(BMI)"
   ]
  },
  {
   "cell_type": "code",
   "execution_count": 9,
   "id": "aed83bea-f215-4219-8942-90c5a9405044",
   "metadata": {},
   "outputs": [
    {
     "name": "stdout",
     "output_type": "stream",
     "text": [
      "Sarah, you are Overweight \n"
     ]
    }
   ],
   "source": [
    "if BMI>0:\n",
    "    if(BMI< 18.5):\n",
    "        print(name +', you are Underweight')\n",
    "    elif(BMI<=24.9):\n",
    "        print(name +', you are Normal Weight')\n",
    "    elif(BMI<=29.9):\n",
    "        print(name +', you are Overweight ')\n",
    "    elif(BMI<=34.9):\n",
    "        print(name +', you are Obese')\n",
    "    elif(BMI<=39.9):\n",
    "        print(name +', you are Severely Obese')\n",
    "    else:\n",
    "         print(name +', you are morbidly Obese')\n",
    "else:\n",
    "         print('Enter Valid input')"
   ]
  },
  {
   "cell_type": "code",
   "execution_count": null,
   "id": "f5083a68-5267-446a-a67b-b40f108eb4ab",
   "metadata": {},
   "outputs": [],
   "source": []
  },
  {
   "cell_type": "code",
   "execution_count": null,
   "id": "8234fa1c-78d1-44e4-94dd-30b01388d26c",
   "metadata": {},
   "outputs": [],
   "source": []
  },
  {
   "cell_type": "code",
   "execution_count": null,
   "id": "4f187b54-5e3c-49ea-97db-e6d0750e18aa",
   "metadata": {},
   "outputs": [],
   "source": [
    "# BMI = (weight * 703) / (height * height)"
   ]
  },
  {
   "cell_type": "code",
   "execution_count": null,
   "id": "182fc5cb-4861-4cdc-8492-803d05b5eacc",
   "metadata": {},
   "outputs": [],
   "source": [
    "Under 18.5\tUnderweight\tMinimal\n",
    "18.5 - 24.9\tNormal Weight\tMinimal\n",
    "25 - 29.9\tOverweight\tIncreased\n",
    "30 - 34.9\tObese\tHigh\n",
    "35 - 39.9\tSeverely Obese\tVery High\n",
    "40 and over\tMorbidly Obese\tExtremely High"
   ]
  },
  {
   "cell_type": "code",
   "execution_count": null,
   "id": "91b5008a-f704-4188-bfd8-cf0089fda255",
   "metadata": {},
   "outputs": [],
   "source": []
  },
  {
   "cell_type": "code",
   "execution_count": null,
   "id": "e3bc13c8-db53-446b-8503-1da50349474c",
   "metadata": {},
   "outputs": [],
   "source": []
  },
  {
   "cell_type": "code",
   "execution_count": null,
   "id": "cefe4830-1265-4bda-b2fb-2a8e84baa387",
   "metadata": {},
   "outputs": [],
   "source": []
  },
  {
   "cell_type": "code",
   "execution_count": null,
   "id": "a9bc79b5-6ff6-45e1-9986-174e338563fe",
   "metadata": {},
   "outputs": [],
   "source": []
  }
 ],
 "metadata": {
  "kernelspec": {
   "display_name": "Python 3 (ipykernel)",
   "language": "python",
   "name": "python3"
  },
  "language_info": {
   "codemirror_mode": {
    "name": "ipython",
    "version": 3
   },
   "file_extension": ".py",
   "mimetype": "text/x-python",
   "name": "python",
   "nbconvert_exporter": "python",
   "pygments_lexer": "ipython3",
   "version": "3.12.4"
  }
 },
 "nbformat": 4,
 "nbformat_minor": 5
}
